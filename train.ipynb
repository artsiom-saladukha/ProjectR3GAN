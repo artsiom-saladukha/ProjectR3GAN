{
 "cells": [
  {
   "cell_type": "code",
   "execution_count": null,
   "metadata": {
    "id": "iqz6AdmpyPk9"
   },
   "outputs": [],
   "source": [
    "import os\n",
    "import pickle\n",
    "import numpy as np\n",
    "import yaml\n",
    "from tqdm import tqdm\n",
    "from PIL import Image"
   ]
  },
  {
   "cell_type": "markdown",
   "metadata": {
    "id": "1_YRxLdN7eYK"
   },
   "source": [
    "# Downloading the dataset and cloning the repo"
   ]
  },
  {
   "cell_type": "code",
   "execution_count": null,
   "metadata": {
    "colab": {
     "base_uri": "https://localhost:8080/"
    },
    "id": "1UxGXbSd5p9Q",
    "outputId": "a57bf048-2758-4ea6-d2d5-30f3403bda16"
   },
   "outputs": [],
   "source": [
    "!git clone https://github.com/brownvc/R3GAN.git\n",
    "!curl -L https://huggingface.co/brownvc/R3GAN-CIFAR10/resolve/main/network-snapshot-final.pkl --output R3GAN/cifar10.pkl\n",
    "!curl -L https://raw.githubusercontent.com/NVlabs/stylegan3/refs/heads/main/environment.yml --output R3GAN/environment.yml\n",
    "!wget -c https://www.cs.toronto.edu/~kriz/cifar-10-python.tar.gz -P ./datasets/\n",
    "!mkdir \"./datasets/cifar-10\""
   ]
  },
  {
   "cell_type": "code",
   "execution_count": null,
   "metadata": {},
   "outputs": [],
   "source": [
    "import pickle \n",
    "\n",
    "with open('R3GAN/cifar10.pkl', 'rb') as f:\n",
    "    loaded_dict = pickle.load(f)"
   ]
  },
  {
   "cell_type": "code",
   "execution_count": null,
   "metadata": {},
   "outputs": [],
   "source": [
    "!cp /kaggle/input/train-main/train.py /kaggle/working/R3GAN/train.py"
   ]
  },
  {
   "cell_type": "code",
   "execution_count": null,
   "metadata": {
    "id": "k3R6AIW75tQz"
   },
   "outputs": [],
   "source": [
    "!tar -xzf \"./datasets/cifar-10-python.tar.gz\""
   ]
  },
  {
   "cell_type": "code",
   "execution_count": null,
   "metadata": {
    "colab": {
     "base_uri": "https://localhost:8080/"
    },
    "id": "3ACMXanNNGNY",
    "outputId": "7bab7fca-398b-4162-e6fc-83cf2b04fe10"
   },
   "outputs": [],
   "source": [
    "def save_images(data, filenames, output_dir):\n",
    "    if not os.path.exists(output_dir):\n",
    "        os.makedirs(output_dir)\n",
    "    for i in tqdm(range(len(filenames))):\n",
    "        img = data[i]\n",
    "        img = img.reshape(3, 32, 32).transpose(1, 2, 0)\n",
    "        img = Image.fromarray(np.uint8(img))\n",
    "        # print(output_dir, filenames[i].decode('utf-8'))\n",
    "        img.save(os.path.join(output_dir, filenames[i].decode('utf-8')))\n",
    "\n",
    "\n",
    "data_batches = ['data_batch_1',\n",
    "                'data_batch_2',\n",
    "                'data_batch_3',\n",
    "                'data_batch_4',\n",
    "                'data_batch_5']\n",
    "output_dir = './datasets/cifar-10/'\n",
    "all_data = []\n",
    "all_filenames = []\n",
    "\n",
    "for batch in data_batches:\n",
    "    with open(os.path.join('./cifar-10-batches-py/', batch), 'rb') as f:\n",
    "        data = pickle.load(f, encoding='bytes')\n",
    "    all_data.append(data[b'data'])\n",
    "    all_filenames.extend(data[b'filenames'])\n",
    "\n",
    "all_data = np.vstack(all_data)\n",
    "save_images(all_data, all_filenames, output_dir)"
   ]
  },
  {
   "cell_type": "code",
   "execution_count": null,
   "metadata": {
    "_kg_hide-input": true,
    "id": "wXAmPMvwNZ93"
   },
   "outputs": [],
   "source": [
    "!zip -r \"./datasets/cifar-10.zip\" \"./datasets/cifar-10/\""
   ]
  },
  {
   "cell_type": "markdown",
   "metadata": {
    "id": "4vWJiLxd7jx8"
   },
   "source": [
    "# Installing required dependencies"
   ]
  },
  {
   "cell_type": "code",
   "execution_count": null,
   "metadata": {
    "id": "dn7OnTpq0pCA"
   },
   "outputs": [],
   "source": [
    "with open('/kaggle/working/R3GAN/environment.yml') as file_handle:\n",
    "    environment_data = yaml.safe_load(file_handle)\n",
    "\n",
    "for dependency in environment_data['dependencies']:\n",
    "    if isinstance(dependency, dict):\n",
    "      for lib in dependency['pip']:\n",
    "        os.system(f'pip install {lib}')"
   ]
  },
  {
   "cell_type": "code",
   "execution_count": null,
   "metadata": {
    "colab": {
     "base_uri": "https://localhost:8080/"
    },
    "id": "JOiPnnNl7n9-",
    "outputId": "a7de98d2-11bc-457f-b90e-e726b8d5ce36"
   },
   "outputs": [],
   "source": [
    "!pip install Ninja"
   ]
  },
  {
   "cell_type": "markdown",
   "metadata": {
    "id": "XWnaksbj7Dot"
   },
   "source": [
    "# Generating images from pretrained models"
   ]
  },
  {
   "cell_type": "code",
   "execution_count": null,
   "metadata": {
    "colab": {
     "base_uri": "https://localhost:8080/"
    },
    "id": "znzM-50UxKM2",
    "outputId": "124ab952-36da-4fc2-e8e7-0419d203aed3"
   },
   "outputs": [],
   "source": [
    "!python R3GAN/gen_images.py --seeds=0-63 --outdir=out --class=0 --network=\"R3GAN/cifar10.pkl\""
   ]
  },
  {
   "cell_type": "code",
   "execution_count": null,
   "metadata": {
    "colab": {
     "base_uri": "https://localhost:8080/"
    },
    "id": "KJu1R_Kh7ArI",
    "outputId": "b09761ae-3f60-4b5c-da44-110b91a3e1d4"
   },
   "outputs": [],
   "source": [
    "!python R3GAN/gen_images.py --seeds=0-7 --outdir=out --network=\"R3GAN/ffhq-256x256.pkl\""
   ]
  },
  {
   "cell_type": "markdown",
   "metadata": {
    "id": "-d240i7o7JBW"
   },
   "source": [
    "# Training flow"
   ]
  },
  {
   "cell_type": "code",
   "execution_count": null,
   "metadata": {
    "colab": {
     "base_uri": "https://localhost:8080/"
    },
    "id": "efPNFlY1omYs",
    "outputId": "4dbd9171-7ae5-42ee-8e2a-20c4f40b969d"
   },
   "outputs": [],
   "source": [
    "!python R3GAN/train.py --outdir=./training-runs --data=\"/kaggle/working/datasets/cifar-10.zip\" --gpus=2 --batch=256 --mirror=1 --aug=1 --cond=0 --preset=\"CIFAR10\" --tick=1 --snap=200"
   ]
  },
  {
   "cell_type": "code",
   "execution_count": null,
   "metadata": {
    "colab": {
     "base_uri": "https://localhost:8080/"
    },
    "id": "nxlsXM9EWPpz",
    "outputId": "6a27a9e6-8187-48bd-8597-3626eb44d8b6"
   },
   "outputs": [],
   "source": [
    "!python R3GAN/train.py --outdir=./training-runs --data=./datasets/ffhq-64x64.zip --gpus=8 --batch=256 --mirror=1 --aug=1 --preset=\"FFHQ-64\" --tick=1 --snap=200"
   ]
  },
  {
   "cell_type": "code",
   "execution_count": null,
   "metadata": {
    "id": "B8psZMcaWRI3"
   },
   "outputs": [],
   "source": [
    "!python R3GAN/train.py --outdir=./training-runs --data=./datasets/ffhq-256x256.zip --gpus=8 --batch=256 --mirror=1 --aug=1 --preset=\"FFHQ-256\" --tick=1 --snap=200"
   ]
  },
  {
   "cell_type": "code",
   "execution_count": null,
   "metadata": {
    "id": "uQUKB9zFWSWN"
   },
   "outputs": [],
   "source": [
    "!python R3GAN/train.py --outdir=./training-runs --data=./datasets/imagenet-32x32.zip --gpus=32 --batch=4096 --mirror=1 --aug=1 --cond=1 --preset=\"ImageNet-32\" --tick=1 --snap=200"
   ]
  },
  {
   "cell_type": "code",
   "execution_count": null,
   "metadata": {
    "id": "eVmgAY3EWTd7"
   },
   "outputs": [],
   "source": [
    "!python R3GAN/train.py --outdir=./training-runs --data=./datasets/imagenet-64x64.zip --gpus=64 --batch=4096 --mirror=1 --aug=1 --cond=1 --preset=\"ImageNet-64\" --tick=1 --snap=200"
   ]
  },
  {
   "cell_type": "code",
   "execution_count": null,
   "metadata": {
    "id": "m1gcppEpFaOa"
   },
   "outputs": [],
   "source": []
  }
 ],
 "metadata": {
  "accelerator": "GPU",
  "colab": {
   "gpuType": "T4",
   "provenance": []
  },
  "kaggle": {
   "accelerator": "nvidiaTeslaT4",
   "dataSources": [
    {
     "datasetId": 7274392,
     "sourceId": 11599325,
     "sourceType": "datasetVersion"
    }
   ],
   "dockerImageVersionId": 31011,
   "isGpuEnabled": true,
   "isInternetEnabled": true,
   "language": "python",
   "sourceType": "notebook"
  },
  "kernelspec": {
   "display_name": "Python 3 (ipykernel)",
   "language": "python",
   "name": "python3"
  },
  "language_info": {
   "codemirror_mode": {
    "name": "ipython",
    "version": 3
   },
   "file_extension": ".py",
   "mimetype": "text/x-python",
   "name": "python",
   "nbconvert_exporter": "python",
   "pygments_lexer": "ipython3",
   "version": "3.12.3"
  }
 },
 "nbformat": 4,
 "nbformat_minor": 4
}
